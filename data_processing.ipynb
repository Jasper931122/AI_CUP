{
 "cells": [
  {
   "cell_type": "code",
   "execution_count": 1,
   "id": "b43f850f",
   "metadata": {},
   "outputs": [],
   "source": [
    "import pandas as pd"
   ]
  },
  {
   "cell_type": "code",
   "execution_count": 2,
   "id": "390b7b32",
   "metadata": {},
   "outputs": [],
   "source": [
    "df_txn = pd.read_csv('acct_transaction.csv', index_col=None)\n",
    "df_alert = pd.read_csv('acct_alert.csv', index_col=None)\n",
    "df_test = pd.read_csv('acct_predict.csv', index_col=None)\n"
   ]
  },
  {
   "cell_type": "markdown",
   "id": "c18f7588",
   "metadata": {},
   "source": [
    "### 警示帳戶整理"
   ]
  },
  {
   "cell_type": "code",
   "execution_count": 3,
   "id": "09b42123",
   "metadata": {},
   "outputs": [
    {
     "data": {
      "text/plain": [
       "0       80bd1c28b47357a3d37a01835ebb1bed5edf54e791bd3d...\n",
       "1       b8c11db05d00b5ac66be10ffee5f6ce6ef9221c733a4bb...\n",
       "2       daa05c68b290ac3cc522abad400c5304dffba07baa232c...\n",
       "3       174e26ecc9cee56aaaca855c743a106275c58629740a49...\n",
       "4       007cf5c98aa4f9f3e444c9cdaca74d0f7542e9a2804201...\n",
       "                              ...                        \n",
       "999     0dc3b10899fbf31411e3a32f2720ab7e8f9623423d2265...\n",
       "1000    ac5a41e0717ce2f54d7246e708b877dc4eb19200ee61e0...\n",
       "1001    640028cfabeb311532334fe930a1ccb82a476115854ff3...\n",
       "1002    a968f594605939475eb3683a69e2f996842d15a4b36263...\n",
       "1003    e0da3b16997b5e2586b9bc27fb3befb16c1c0da82eefee...\n",
       "Name: acct, Length: 1004, dtype: object"
      ]
     },
     "execution_count": 3,
     "metadata": {},
     "output_type": "execute_result"
    }
   ],
   "source": [
    "alert_acct = df_alert['acct']\n",
    "alert_acct"
   ]
  },
  {
   "cell_type": "code",
   "execution_count": 4,
   "id": "9166eee1",
   "metadata": {},
   "outputs": [
    {
     "data": {
      "text/html": [
       "<div>\n",
       "<style scoped>\n",
       "    .dataframe tbody tr th:only-of-type {\n",
       "        vertical-align: middle;\n",
       "    }\n",
       "\n",
       "    .dataframe tbody tr th {\n",
       "        vertical-align: top;\n",
       "    }\n",
       "\n",
       "    .dataframe thead th {\n",
       "        text-align: right;\n",
       "    }\n",
       "</style>\n",
       "<table border=\"1\" class=\"dataframe\">\n",
       "  <thead>\n",
       "    <tr style=\"text-align: right;\">\n",
       "      <th></th>\n",
       "      <th>from_acct</th>\n",
       "      <th>from_acct_type</th>\n",
       "      <th>to_acct</th>\n",
       "      <th>to_acct_type</th>\n",
       "      <th>is_self_txn</th>\n",
       "      <th>txn_amt</th>\n",
       "      <th>txn_date</th>\n",
       "      <th>txn_time</th>\n",
       "      <th>currency_type</th>\n",
       "      <th>channel_type</th>\n",
       "    </tr>\n",
       "  </thead>\n",
       "  <tbody>\n",
       "    <tr>\n",
       "      <th>570599</th>\n",
       "      <td>00112527a4499a768559488e8e2ce5547523eb3851e293...</td>\n",
       "      <td>1</td>\n",
       "      <td>8400d3cf5f580e3fd53fcd261688062b2b9c0fe998e91d...</td>\n",
       "      <td>2</td>\n",
       "      <td>UNK</td>\n",
       "      <td>50500.0</td>\n",
       "      <td>5</td>\n",
       "      <td>17:00:00</td>\n",
       "      <td>TWD</td>\n",
       "      <td>03</td>\n",
       "    </tr>\n",
       "    <tr>\n",
       "      <th>2406699</th>\n",
       "      <td>00112527a4499a768559488e8e2ce5547523eb3851e293...</td>\n",
       "      <td>1</td>\n",
       "      <td>8400d3cf5f580e3fd53fcd261688062b2b9c0fe998e91d...</td>\n",
       "      <td>2</td>\n",
       "      <td>UNK</td>\n",
       "      <td>20500.0</td>\n",
       "      <td>5</td>\n",
       "      <td>17:05:00</td>\n",
       "      <td>TWD</td>\n",
       "      <td>03</td>\n",
       "    </tr>\n",
       "    <tr>\n",
       "      <th>2110307</th>\n",
       "      <td>00112527a4499a768559488e8e2ce5547523eb3851e293...</td>\n",
       "      <td>1</td>\n",
       "      <td>d160a0ebf94e1818be041d8f41e3d17439b20fe0b8ae01...</td>\n",
       "      <td>2</td>\n",
       "      <td>UNK</td>\n",
       "      <td>50500.0</td>\n",
       "      <td>8</td>\n",
       "      <td>17:55:00</td>\n",
       "      <td>TWD</td>\n",
       "      <td>03</td>\n",
       "    </tr>\n",
       "    <tr>\n",
       "      <th>3059960</th>\n",
       "      <td>00112527a4499a768559488e8e2ce5547523eb3851e293...</td>\n",
       "      <td>1</td>\n",
       "      <td>d160a0ebf94e1818be041d8f41e3d17439b20fe0b8ae01...</td>\n",
       "      <td>2</td>\n",
       "      <td>UNK</td>\n",
       "      <td>30500.0</td>\n",
       "      <td>8</td>\n",
       "      <td>18:00:00</td>\n",
       "      <td>TWD</td>\n",
       "      <td>03</td>\n",
       "    </tr>\n",
       "    <tr>\n",
       "      <th>479308</th>\n",
       "      <td>00112527a4499a768559488e8e2ce5547523eb3851e293...</td>\n",
       "      <td>1</td>\n",
       "      <td>93d0f99f7d1975100a5901cd46bfaa51b8586df702b980...</td>\n",
       "      <td>2</td>\n",
       "      <td>UNK</td>\n",
       "      <td>50500.0</td>\n",
       "      <td>10</td>\n",
       "      <td>15:35:00</td>\n",
       "      <td>TWD</td>\n",
       "      <td>03</td>\n",
       "    </tr>\n",
       "    <tr>\n",
       "      <th>...</th>\n",
       "      <td>...</td>\n",
       "      <td>...</td>\n",
       "      <td>...</td>\n",
       "      <td>...</td>\n",
       "      <td>...</td>\n",
       "      <td>...</td>\n",
       "      <td>...</td>\n",
       "      <td>...</td>\n",
       "      <td>...</td>\n",
       "      <td>...</td>\n",
       "    </tr>\n",
       "    <tr>\n",
       "      <th>3834420</th>\n",
       "      <td>ff8b5c3f735975177c6436be3f4f8b498ce18abfec76ff...</td>\n",
       "      <td>1</td>\n",
       "      <td>9010e7126db1b92812ed1f0511bbff627f9029f3dc8ab6...</td>\n",
       "      <td>2</td>\n",
       "      <td>UNK</td>\n",
       "      <td>15.0</td>\n",
       "      <td>17</td>\n",
       "      <td>17:40:00</td>\n",
       "      <td>TWD</td>\n",
       "      <td>03</td>\n",
       "    </tr>\n",
       "    <tr>\n",
       "      <th>3006782</th>\n",
       "      <td>ff8b5c3f735975177c6436be3f4f8b498ce18abfec76ff...</td>\n",
       "      <td>1</td>\n",
       "      <td>001d275c16d64258c555d89810df076dca7f39b5a13bb3...</td>\n",
       "      <td>2</td>\n",
       "      <td>UNK</td>\n",
       "      <td>43500.0</td>\n",
       "      <td>17</td>\n",
       "      <td>18:10:00</td>\n",
       "      <td>TWD</td>\n",
       "      <td>03</td>\n",
       "    </tr>\n",
       "    <tr>\n",
       "      <th>221234</th>\n",
       "      <td>ff8b5c3f735975177c6436be3f4f8b498ce18abfec76ff...</td>\n",
       "      <td>1</td>\n",
       "      <td>001d275c16d64258c555d89810df076dca7f39b5a13bb3...</td>\n",
       "      <td>2</td>\n",
       "      <td>UNK</td>\n",
       "      <td>50500.0</td>\n",
       "      <td>17</td>\n",
       "      <td>18:15:00</td>\n",
       "      <td>TWD</td>\n",
       "      <td>03</td>\n",
       "    </tr>\n",
       "    <tr>\n",
       "      <th>3343205</th>\n",
       "      <td>ff8b5c3f735975177c6436be3f4f8b498ce18abfec76ff...</td>\n",
       "      <td>1</td>\n",
       "      <td>001d275c16d64258c555d89810df076dca7f39b5a13bb3...</td>\n",
       "      <td>2</td>\n",
       "      <td>UNK</td>\n",
       "      <td>49500.0</td>\n",
       "      <td>17</td>\n",
       "      <td>18:15:00</td>\n",
       "      <td>TWD</td>\n",
       "      <td>03</td>\n",
       "    </tr>\n",
       "    <tr>\n",
       "      <th>4039986</th>\n",
       "      <td>ff8b5c3f735975177c6436be3f4f8b498ce18abfec76ff...</td>\n",
       "      <td>1</td>\n",
       "      <td>001d275c16d64258c555d89810df076dca7f39b5a13bb3...</td>\n",
       "      <td>2</td>\n",
       "      <td>UNK</td>\n",
       "      <td>65.0</td>\n",
       "      <td>17</td>\n",
       "      <td>18:20:00</td>\n",
       "      <td>TWD</td>\n",
       "      <td>03</td>\n",
       "    </tr>\n",
       "  </tbody>\n",
       "</table>\n",
       "<p>12797 rows × 10 columns</p>\n",
       "</div>"
      ],
      "text/plain": [
       "                                                 from_acct  from_acct_type  \\\n",
       "570599   00112527a4499a768559488e8e2ce5547523eb3851e293...               1   \n",
       "2406699  00112527a4499a768559488e8e2ce5547523eb3851e293...               1   \n",
       "2110307  00112527a4499a768559488e8e2ce5547523eb3851e293...               1   \n",
       "3059960  00112527a4499a768559488e8e2ce5547523eb3851e293...               1   \n",
       "479308   00112527a4499a768559488e8e2ce5547523eb3851e293...               1   \n",
       "...                                                    ...             ...   \n",
       "3834420  ff8b5c3f735975177c6436be3f4f8b498ce18abfec76ff...               1   \n",
       "3006782  ff8b5c3f735975177c6436be3f4f8b498ce18abfec76ff...               1   \n",
       "221234   ff8b5c3f735975177c6436be3f4f8b498ce18abfec76ff...               1   \n",
       "3343205  ff8b5c3f735975177c6436be3f4f8b498ce18abfec76ff...               1   \n",
       "4039986  ff8b5c3f735975177c6436be3f4f8b498ce18abfec76ff...               1   \n",
       "\n",
       "                                                   to_acct  to_acct_type  \\\n",
       "570599   8400d3cf5f580e3fd53fcd261688062b2b9c0fe998e91d...             2   \n",
       "2406699  8400d3cf5f580e3fd53fcd261688062b2b9c0fe998e91d...             2   \n",
       "2110307  d160a0ebf94e1818be041d8f41e3d17439b20fe0b8ae01...             2   \n",
       "3059960  d160a0ebf94e1818be041d8f41e3d17439b20fe0b8ae01...             2   \n",
       "479308   93d0f99f7d1975100a5901cd46bfaa51b8586df702b980...             2   \n",
       "...                                                    ...           ...   \n",
       "3834420  9010e7126db1b92812ed1f0511bbff627f9029f3dc8ab6...             2   \n",
       "3006782  001d275c16d64258c555d89810df076dca7f39b5a13bb3...             2   \n",
       "221234   001d275c16d64258c555d89810df076dca7f39b5a13bb3...             2   \n",
       "3343205  001d275c16d64258c555d89810df076dca7f39b5a13bb3...             2   \n",
       "4039986  001d275c16d64258c555d89810df076dca7f39b5a13bb3...             2   \n",
       "\n",
       "        is_self_txn  txn_amt  txn_date  txn_time currency_type channel_type  \n",
       "570599          UNK  50500.0         5  17:00:00           TWD           03  \n",
       "2406699         UNK  20500.0         5  17:05:00           TWD           03  \n",
       "2110307         UNK  50500.0         8  17:55:00           TWD           03  \n",
       "3059960         UNK  30500.0         8  18:00:00           TWD           03  \n",
       "479308          UNK  50500.0        10  15:35:00           TWD           03  \n",
       "...             ...      ...       ...       ...           ...          ...  \n",
       "3834420         UNK     15.0        17  17:40:00           TWD           03  \n",
       "3006782         UNK  43500.0        17  18:10:00           TWD           03  \n",
       "221234          UNK  50500.0        17  18:15:00           TWD           03  \n",
       "3343205         UNK  49500.0        17  18:15:00           TWD           03  \n",
       "4039986         UNK     65.0        17  18:20:00           TWD           03  \n",
       "\n",
       "[12797 rows x 10 columns]"
      ]
     },
     "execution_count": 4,
     "metadata": {},
     "output_type": "execute_result"
    }
   ],
   "source": [
    "alert_result = (\n",
    "    df_txn[df_txn['from_acct'].isin(alert_acct)]\n",
    "    .sort_values(by=['from_acct', 'txn_date', 'txn_time'])\n",
    ")\n",
    "alert_result.to_csv('alert_out.csv', index=False)\n",
    "alert_result"
   ]
  },
  {
   "cell_type": "markdown",
   "id": "c81583d9",
   "metadata": {},
   "source": [
    "### 待預測帳戶整理"
   ]
  },
  {
   "cell_type": "code",
   "execution_count": 5,
   "id": "7f3a9ed5",
   "metadata": {},
   "outputs": [
    {
     "data": {
      "text/plain": [
       "0       fcf31c5113d3dbd9cb5056045c6a0f213bd8a4fc1bc834...\n",
       "1       e21dfa45e990364194468e501fbfe52ec02a4b71a2e2e8...\n",
       "2       2552e943aaf9caa33183758cd40128ef20a6e6ff16c232...\n",
       "3       71700e7b7c3d40abdfdbcc7afc0752fa8d9bd28b408651...\n",
       "4       c70349fc718ffb88f03f31b5a7fcf65b33dd71dce6fee0...\n",
       "                              ...                        \n",
       "4775    09747f71cc6234a75312f2e77f79b9a51e5145e114e8b0...\n",
       "4776    32e6bf3ca071af026794f4df028f3cdaa43ddd499bac10...\n",
       "4777    e9a6861c68821da506be76419df559efc167ef8a056063...\n",
       "4778    75ca5a3798f3cad4c0e1c1fd0adca48f020b2bda856a8e...\n",
       "4779    a18821dbabece6832aba0ec898b4cd664a31f8a8ad3e84...\n",
       "Name: acct, Length: 4780, dtype: object"
      ]
     },
     "execution_count": 5,
     "metadata": {},
     "output_type": "execute_result"
    }
   ],
   "source": [
    "test_acct = df_test['acct']\n",
    "test_acct"
   ]
  },
  {
   "cell_type": "code",
   "execution_count": 6,
   "id": "e7b96931",
   "metadata": {},
   "outputs": [
    {
     "data": {
      "text/html": [
       "<div>\n",
       "<style scoped>\n",
       "    .dataframe tbody tr th:only-of-type {\n",
       "        vertical-align: middle;\n",
       "    }\n",
       "\n",
       "    .dataframe tbody tr th {\n",
       "        vertical-align: top;\n",
       "    }\n",
       "\n",
       "    .dataframe thead th {\n",
       "        text-align: right;\n",
       "    }\n",
       "</style>\n",
       "<table border=\"1\" class=\"dataframe\">\n",
       "  <thead>\n",
       "    <tr style=\"text-align: right;\">\n",
       "      <th></th>\n",
       "      <th>from_acct</th>\n",
       "      <th>from_acct_type</th>\n",
       "      <th>to_acct</th>\n",
       "      <th>to_acct_type</th>\n",
       "      <th>is_self_txn</th>\n",
       "      <th>txn_amt</th>\n",
       "      <th>txn_date</th>\n",
       "      <th>txn_time</th>\n",
       "      <th>currency_type</th>\n",
       "      <th>channel_type</th>\n",
       "    </tr>\n",
       "  </thead>\n",
       "  <tbody>\n",
       "    <tr>\n",
       "      <th>2608979</th>\n",
       "      <td>000ef1e36f55fd9f71dd7e02fe747af1f6240417f9e807...</td>\n",
       "      <td>1</td>\n",
       "      <td>b98e202a84933bfc80135179a5c15c929ea7e9ce1b562b...</td>\n",
       "      <td>2</td>\n",
       "      <td>UNK</td>\n",
       "      <td>97500.0</td>\n",
       "      <td>3</td>\n",
       "      <td>12:45:00</td>\n",
       "      <td>TWD</td>\n",
       "      <td>03</td>\n",
       "    </tr>\n",
       "    <tr>\n",
       "      <th>3961291</th>\n",
       "      <td>000ef1e36f55fd9f71dd7e02fe747af1f6240417f9e807...</td>\n",
       "      <td>1</td>\n",
       "      <td>451c148e88ee55421867f4dce36d826865fe6b82c1a789...</td>\n",
       "      <td>2</td>\n",
       "      <td>UNK</td>\n",
       "      <td>26500.0</td>\n",
       "      <td>8</td>\n",
       "      <td>18:45:00</td>\n",
       "      <td>TWD</td>\n",
       "      <td>03</td>\n",
       "    </tr>\n",
       "    <tr>\n",
       "      <th>3042360</th>\n",
       "      <td>000ef1e36f55fd9f71dd7e02fe747af1f6240417f9e807...</td>\n",
       "      <td>1</td>\n",
       "      <td>c928ffc70c5012bddba0da94d7ca041e4714f31c57d0fa...</td>\n",
       "      <td>2</td>\n",
       "      <td>UNK</td>\n",
       "      <td>105000.0</td>\n",
       "      <td>9</td>\n",
       "      <td>09:25:00</td>\n",
       "      <td>TWD</td>\n",
       "      <td>03</td>\n",
       "    </tr>\n",
       "    <tr>\n",
       "      <th>1694355</th>\n",
       "      <td>000ef1e36f55fd9f71dd7e02fe747af1f6240417f9e807...</td>\n",
       "      <td>1</td>\n",
       "      <td>7ee95d39a97e97e0894e698aced306b05eccb82489ee69...</td>\n",
       "      <td>2</td>\n",
       "      <td>UNK</td>\n",
       "      <td>13500.0</td>\n",
       "      <td>9</td>\n",
       "      <td>18:55:00</td>\n",
       "      <td>TWD</td>\n",
       "      <td>03</td>\n",
       "    </tr>\n",
       "    <tr>\n",
       "      <th>3879807</th>\n",
       "      <td>000ef1e36f55fd9f71dd7e02fe747af1f6240417f9e807...</td>\n",
       "      <td>1</td>\n",
       "      <td>46247177878425ad5e9243a4efb76045574328eed822d8...</td>\n",
       "      <td>2</td>\n",
       "      <td>UNK</td>\n",
       "      <td>1050.0</td>\n",
       "      <td>16</td>\n",
       "      <td>09:25:00</td>\n",
       "      <td>TWD</td>\n",
       "      <td>03</td>\n",
       "    </tr>\n",
       "    <tr>\n",
       "      <th>...</th>\n",
       "      <td>...</td>\n",
       "      <td>...</td>\n",
       "      <td>...</td>\n",
       "      <td>...</td>\n",
       "      <td>...</td>\n",
       "      <td>...</td>\n",
       "      <td>...</td>\n",
       "      <td>...</td>\n",
       "      <td>...</td>\n",
       "      <td>...</td>\n",
       "    </tr>\n",
       "    <tr>\n",
       "      <th>444476</th>\n",
       "      <td>fffcb36d615a7e507b1e7ecc6a1e599ab508e719d05141...</td>\n",
       "      <td>1</td>\n",
       "      <td>7ea73719111a6eb298bddd830f9664120ecfd71905baf9...</td>\n",
       "      <td>2</td>\n",
       "      <td>UNK</td>\n",
       "      <td>5850.0</td>\n",
       "      <td>51</td>\n",
       "      <td>07:45:00</td>\n",
       "      <td>TWD</td>\n",
       "      <td>03</td>\n",
       "    </tr>\n",
       "    <tr>\n",
       "      <th>4235243</th>\n",
       "      <td>fffcb36d615a7e507b1e7ecc6a1e599ab508e719d05141...</td>\n",
       "      <td>1</td>\n",
       "      <td>4c7e7487634776ca67749149692d7d87b84f9bd9a91711...</td>\n",
       "      <td>2</td>\n",
       "      <td>UNK</td>\n",
       "      <td>3050.0</td>\n",
       "      <td>87</td>\n",
       "      <td>22:55:00</td>\n",
       "      <td>TWD</td>\n",
       "      <td>03</td>\n",
       "    </tr>\n",
       "    <tr>\n",
       "      <th>2243162</th>\n",
       "      <td>fffcb36d615a7e507b1e7ecc6a1e599ab508e719d05141...</td>\n",
       "      <td>1</td>\n",
       "      <td>6d5790ad1df52030c15e403a2b7a6262494ae88f7edba4...</td>\n",
       "      <td>1</td>\n",
       "      <td>N</td>\n",
       "      <td>25.0</td>\n",
       "      <td>94</td>\n",
       "      <td>09:15:00</td>\n",
       "      <td>TWD</td>\n",
       "      <td>03</td>\n",
       "    </tr>\n",
       "    <tr>\n",
       "      <th>2819145</th>\n",
       "      <td>fffcb36d615a7e507b1e7ecc6a1e599ab508e719d05141...</td>\n",
       "      <td>1</td>\n",
       "      <td>fc3b3d257973716d089072acee7c149e17591b81b69d3d...</td>\n",
       "      <td>1</td>\n",
       "      <td>Y</td>\n",
       "      <td>30500.0</td>\n",
       "      <td>110</td>\n",
       "      <td>12:45:00</td>\n",
       "      <td>TWD</td>\n",
       "      <td>03</td>\n",
       "    </tr>\n",
       "    <tr>\n",
       "      <th>1955941</th>\n",
       "      <td>fffcb36d615a7e507b1e7ecc6a1e599ab508e719d05141...</td>\n",
       "      <td>1</td>\n",
       "      <td>8f7a116a468d6f7e6f2431fd750215f36d125e98742f48...</td>\n",
       "      <td>2</td>\n",
       "      <td>UNK</td>\n",
       "      <td>415.0</td>\n",
       "      <td>118</td>\n",
       "      <td>15:00:00</td>\n",
       "      <td>TWD</td>\n",
       "      <td>03</td>\n",
       "    </tr>\n",
       "  </tbody>\n",
       "</table>\n",
       "<p>195502 rows × 10 columns</p>\n",
       "</div>"
      ],
      "text/plain": [
       "                                                 from_acct  from_acct_type  \\\n",
       "2608979  000ef1e36f55fd9f71dd7e02fe747af1f6240417f9e807...               1   \n",
       "3961291  000ef1e36f55fd9f71dd7e02fe747af1f6240417f9e807...               1   \n",
       "3042360  000ef1e36f55fd9f71dd7e02fe747af1f6240417f9e807...               1   \n",
       "1694355  000ef1e36f55fd9f71dd7e02fe747af1f6240417f9e807...               1   \n",
       "3879807  000ef1e36f55fd9f71dd7e02fe747af1f6240417f9e807...               1   \n",
       "...                                                    ...             ...   \n",
       "444476   fffcb36d615a7e507b1e7ecc6a1e599ab508e719d05141...               1   \n",
       "4235243  fffcb36d615a7e507b1e7ecc6a1e599ab508e719d05141...               1   \n",
       "2243162  fffcb36d615a7e507b1e7ecc6a1e599ab508e719d05141...               1   \n",
       "2819145  fffcb36d615a7e507b1e7ecc6a1e599ab508e719d05141...               1   \n",
       "1955941  fffcb36d615a7e507b1e7ecc6a1e599ab508e719d05141...               1   \n",
       "\n",
       "                                                   to_acct  to_acct_type  \\\n",
       "2608979  b98e202a84933bfc80135179a5c15c929ea7e9ce1b562b...             2   \n",
       "3961291  451c148e88ee55421867f4dce36d826865fe6b82c1a789...             2   \n",
       "3042360  c928ffc70c5012bddba0da94d7ca041e4714f31c57d0fa...             2   \n",
       "1694355  7ee95d39a97e97e0894e698aced306b05eccb82489ee69...             2   \n",
       "3879807  46247177878425ad5e9243a4efb76045574328eed822d8...             2   \n",
       "...                                                    ...           ...   \n",
       "444476   7ea73719111a6eb298bddd830f9664120ecfd71905baf9...             2   \n",
       "4235243  4c7e7487634776ca67749149692d7d87b84f9bd9a91711...             2   \n",
       "2243162  6d5790ad1df52030c15e403a2b7a6262494ae88f7edba4...             1   \n",
       "2819145  fc3b3d257973716d089072acee7c149e17591b81b69d3d...             1   \n",
       "1955941  8f7a116a468d6f7e6f2431fd750215f36d125e98742f48...             2   \n",
       "\n",
       "        is_self_txn   txn_amt  txn_date  txn_time currency_type channel_type  \n",
       "2608979         UNK   97500.0         3  12:45:00           TWD           03  \n",
       "3961291         UNK   26500.0         8  18:45:00           TWD           03  \n",
       "3042360         UNK  105000.0         9  09:25:00           TWD           03  \n",
       "1694355         UNK   13500.0         9  18:55:00           TWD           03  \n",
       "3879807         UNK    1050.0        16  09:25:00           TWD           03  \n",
       "...             ...       ...       ...       ...           ...          ...  \n",
       "444476          UNK    5850.0        51  07:45:00           TWD           03  \n",
       "4235243         UNK    3050.0        87  22:55:00           TWD           03  \n",
       "2243162           N      25.0        94  09:15:00           TWD           03  \n",
       "2819145           Y   30500.0       110  12:45:00           TWD           03  \n",
       "1955941         UNK     415.0       118  15:00:00           TWD           03  \n",
       "\n",
       "[195502 rows x 10 columns]"
      ]
     },
     "execution_count": 6,
     "metadata": {},
     "output_type": "execute_result"
    }
   ],
   "source": [
    "test_result = (\n",
    "    df_txn[df_txn['from_acct'].isin(test_acct)]\n",
    "    .sort_values(by=['from_acct', 'txn_date', 'txn_time'])\n",
    ")\n",
    "test_result.to_csv('test_out.csv', index=False)\n",
    "test_result"
   ]
  },
  {
   "cell_type": "markdown",
   "id": "6614757d",
   "metadata": {},
   "source": [
    "### 警示帳戶、待測試帳戶是否有重疊的帳戶"
   ]
  },
  {
   "cell_type": "code",
   "execution_count": 7,
   "id": "9a2b2aa5",
   "metadata": {},
   "outputs": [
    {
     "data": {
      "text/plain": [
       "Series([], Name: acct, dtype: object)"
      ]
     },
     "execution_count": 7,
     "metadata": {},
     "output_type": "execute_result"
    }
   ],
   "source": [
    "test_acct[test_acct.isin(alert_acct)]"
   ]
  },
  {
   "cell_type": "markdown",
   "id": "d4f48dfc",
   "metadata": {},
   "source": [
    "### 警示、待預測帳戶分別有多少筆匯款、收款紀錄"
   ]
  },
  {
   "cell_type": "markdown",
   "id": "22b873bb",
   "metadata": {},
   "source": [
    "#### 警示帳戶的匯款、收款次數"
   ]
  },
  {
   "cell_type": "code",
   "execution_count": 8,
   "id": "0f9d2bf6",
   "metadata": {},
   "outputs": [
    {
     "data": {
      "text/plain": [
       "from_acct\n",
       "0d4bd83c66ef37072fa350c8c207523a988d8b2cbd4c4c5b42c7f82a7faab7e8    415\n",
       "5ead2cf99ae494c90ec512bd321cebee2270d466f3dca1b632fcc68505d4e174    256\n",
       "a1eb09567740ff3707a823920caef2e037b332215351e1d5e42ff6acfd144730    244\n",
       "c77453c83e80463c73cc0881d8f9b9071394de688d524f6b33299c03559a5c37    239\n",
       "495a8d1d9d53d7df8dbda76830035d60e2889f478ebd35ee61e1ddbdbfe13e1c    236\n",
       "                                                                   ... \n",
       "be4a823c82475968d7044b3774a0f40b0b4ca86129d3a2be4045eb90c4196781      1\n",
       "2f70a83d840699d61af528e7707ae91ad1797b9b5fafe3c90f4e0b061ae907c8      1\n",
       "bec3fcc0ff8e45210882537730e0101bd8d0bc58fbd01ec2516bd0d8193bb7d3      1\n",
       "2f41ed5965016045368f40dfc00c0590899b32a408129be45c997a325d1a5861      1\n",
       "359071387bb27609560f26c944830fdb42e5fe29ada00484464aa5f8e2e20f58      1\n",
       "Name: count, Length: 767, dtype: int64"
      ]
     },
     "execution_count": 8,
     "metadata": {},
     "output_type": "execute_result"
    }
   ],
   "source": [
    "cnt_alert_from = alert_result['from_acct'].value_counts()\n",
    "cnt_alert_from"
   ]
  },
  {
   "cell_type": "code",
   "execution_count": 9,
   "id": "e28a1bfc",
   "metadata": {},
   "outputs": [
    {
     "data": {
      "text/plain": [
       "to_acct\n",
       "28e5a000c7570df1c0b62ac3e41ba120d7c455e0aa46face936676bef79bbb88    1297\n",
       "8a986c8022f566c60780c428a9bcd1adc13c1ba8b0320bbe032541ab380f218b    1169\n",
       "ea4ed4ffb43557bf7a2970794c92bae1b8d226e65b2f49de8746da71acb25b1c     942\n",
       "73e878a90a6cf282ec5d8ec5f46f848c281db25a85666e5a75e63b4b4c8a392a     757\n",
       "e20b67d4313cb5f2080697ec9b02e0f5b7d1fadd5cf88a70cc03109c5abc83d0     540\n",
       "                                                                    ... \n",
       "b09c390b9879d2feda30420977cd826cb34f87dface01575bad981166aaa754d       1\n",
       "a3bdc9283a2a8d8c97329d06e3d0ef16c246e437b0d5a0327e2d9531c3480d29       1\n",
       "23842be83f4121f15eeee92f4e6aa2bc56ad60cde1bf5ebf035e394db5ad4663       1\n",
       "d720f22c923b0f26c0d5ba3526a039b40ff530719b0290cd09605af904208445       1\n",
       "d429dde458a9232edf087978fb5d8201ef758615c0140fe5e05bebdd101b7e30       1\n",
       "Name: count, Length: 992, dtype: int64"
      ]
     },
     "execution_count": 9,
     "metadata": {},
     "output_type": "execute_result"
    }
   ],
   "source": [
    "alert_to_acct = df_txn[df_txn['to_acct'].isin(alert_acct)]['to_acct']\n",
    "cnt_alert_to = alert_to_acct.value_counts()\n",
    "cnt_alert_to"
   ]
  },
  {
   "cell_type": "markdown",
   "id": "e63b0507",
   "metadata": {},
   "source": [
    "#### 待預測帳戶的匯款、收款次數"
   ]
  },
  {
   "cell_type": "code",
   "execution_count": 10,
   "id": "2782cbac",
   "metadata": {},
   "outputs": [
    {
     "data": {
      "text/plain": [
       "from_acct\n",
       "e178b47edac85bea5e2299851a7e2d11fe6a611dc46c04c55b0301c5642f4fe7    1198\n",
       "87ca82b3298d1e4a12a389d39ab48d3e1c3cc6eed35b713048d164496480cc5c    1180\n",
       "f170104ff2dda4c79b1bf426ec1ae1fddc93d9767f2cf6e43796963afd46db10    1171\n",
       "ff8e248a6aed2f21e211b08e23c690146c689a5df8dc241541ac6bfa8e2dfbdd    1157\n",
       "01fd45e828cd2bf2d14a909576c32b69ea963198a4247e0eb38a2eedc964cf58    1138\n",
       "                                                                    ... \n",
       "e63b49893c6e6116f21ebe30bd9c9d834ba12a392a8fb31e4296526a26105079       1\n",
       "6b1a0050e6c1ce5e3165c6981421811b5fa434aff0e2d086b52f6f68c3514e2b       1\n",
       "1a5c9bae59a6c2c5a5a868f04a7225a233f6761e00e2bd713ec62833e38ef838       1\n",
       "9b62abc1e67b38bf474a5671612edc7cab6b92aa26c72b0554f3ca285455fc47       1\n",
       "defdafd2d7e70cf30b16eae1491ab7ef196b6a56e54fdb43fb4a5c56a6cbb14c       1\n",
       "Name: count, Length: 4541, dtype: int64"
      ]
     },
     "execution_count": 10,
     "metadata": {},
     "output_type": "execute_result"
    }
   ],
   "source": [
    "cnt_test_from = test_result['from_acct'].value_counts()\n",
    "cnt_test_from"
   ]
  },
  {
   "cell_type": "code",
   "execution_count": 11,
   "id": "d5933204",
   "metadata": {},
   "outputs": [
    {
     "data": {
      "text/plain": [
       "to_acct\n",
       "0e61edeaf581152c845e43be63150a11fdbccc8ebe4234178c780294b5d98497    1208\n",
       "6a0f972ada5c6578cf32f61a3ed5de77c0ea377502f0013f266b383a156808dc    1205\n",
       "9114e686b47a5a05d7ad05c348464471ca31c14b612f6c20eb25ba2294999e62    1172\n",
       "b411bb625aca2edb6dd9abfc65503027f13e86eb88f777b6b54419a0f3b8199e    1162\n",
       "40a21509fb99c9a4033d3a1c0cfe5309ba2ce27d71e437135779d081577b3997    1161\n",
       "                                                                    ... \n",
       "37c0261ef1c2ea624bdcda8faf3c880516e4e85a018e52a45d23b85a33f0a217       1\n",
       "0cb946d425ca1eb4bb051eb6c3d9cb2545b8f99b983d7a30e1064f0707ef99c4       1\n",
       "6f2ee64f7b5eab48a93dfe7e5878b98020f3be977e7501d4c032711f437c7f6f       1\n",
       "cf0674a33a120b8ce2211222192e6514adc12cc83adf6b10e5de4ec1fd5bfc0f       1\n",
       "a75e09f4a67b84006daf136810c878ed1512879922f34f284b909a0ae71460db       1\n",
       "Name: count, Length: 4624, dtype: int64"
      ]
     },
     "execution_count": 11,
     "metadata": {},
     "output_type": "execute_result"
    }
   ],
   "source": [
    "test_to_acct = df_txn[df_txn['to_acct'].isin(test_acct)]['to_acct']\n",
    "cnt_test_to = test_to_acct.value_counts()\n",
    "cnt_test_to"
   ]
  },
  {
   "cell_type": "markdown",
   "id": "89f1e6b7",
   "metadata": {},
   "source": [
    "#### 驗證匯款、收款帳號的聯集(確認帳號筆數)"
   ]
  },
  {
   "cell_type": "code",
   "execution_count": 12,
   "id": "5fcb2132",
   "metadata": {},
   "outputs": [
    {
     "data": {
      "text/plain": [
       "array(['00112527a4499a768559488e8e2ce5547523eb3851e293f9f5a3ed7a9fdea489',\n",
       "       '001fb9eac39927f82eb048b62a80f9a14743441b05c836de39449a6e1d712931',\n",
       "       '007cf5c98aa4f9f3e444c9cdaca74d0f7542e9a28042012b49a18c24e758d710',\n",
       "       ...,\n",
       "       'aaed43fee9a459f519aaeb8b6b2dcb8a87a6a43a119abcc9f0c5163c273ba847',\n",
       "       '840b35d45604155f75750f7bd1098803a8ab885c652430fcfa04d15e38ee5c8e',\n",
       "       '0d2333110d27cafb53e2f8b31ad01c71bc9613344b3ace291164fc81e6ae2e95'],\n",
       "      shape=(1004,), dtype=object)"
      ]
     },
     "execution_count": 12,
     "metadata": {},
     "output_type": "execute_result"
    }
   ],
   "source": [
    "pd.concat([alert_result['from_acct'], alert_to_acct]).unique()"
   ]
  },
  {
   "cell_type": "code",
   "execution_count": 13,
   "id": "b0114c78",
   "metadata": {},
   "outputs": [
    {
     "data": {
      "text/plain": [
       "array(['000ef1e36f55fd9f71dd7e02fe747af1f6240417f9e807e7e51ce173a59f7188',\n",
       "       '00129e51dddd8e4265489bad36a7c1a66f813ee1c86a79f651da8def4a906d7d',\n",
       "       '001d6ee4c8bdfc61447fdb5624c57a897426e278ba10b9342a1d34795d3eafe3',\n",
       "       ...,\n",
       "       'bb9677037fed9f8c60428792e5fb0822776edd6c469e4b5a147784d06ffc940a',\n",
       "       '3706777450be50f07ad3d46177f250f3ce9282a66b4b912fac04af19e2ce1579',\n",
       "       '147cdd2e4bff4bf6c334032419d6a01baaf0b04bf29b07f18a147160b7b80ff3'],\n",
       "      shape=(4780,), dtype=object)"
      ]
     },
     "execution_count": 13,
     "metadata": {},
     "output_type": "execute_result"
    }
   ],
   "source": [
    "pd.concat([test_result['from_acct'], test_to_acct]).unique()"
   ]
  }
 ],
 "metadata": {
  "kernelspec": {
   "display_name": "test",
   "language": "python",
   "name": "python3"
  },
  "language_info": {
   "codemirror_mode": {
    "name": "ipython",
    "version": 3
   },
   "file_extension": ".py",
   "mimetype": "text/x-python",
   "name": "python",
   "nbconvert_exporter": "python",
   "pygments_lexer": "ipython3",
   "version": "3.13.5"
  }
 },
 "nbformat": 4,
 "nbformat_minor": 5
}
